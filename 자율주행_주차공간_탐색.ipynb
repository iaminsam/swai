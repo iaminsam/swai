{
  "cells": [
    {
      "attachments": {},
      "cell_type": "markdown",
      "metadata": {
        "id": "VEPHGLf-eSLt"
      },
      "source": [
        "# Mask R-CNN 자율주행 주차공간 탐색 인공지능\n",
        "\n",
        "![](https://github.com/kairess/Mask_RCNN/raw/master/assets/4k_video.gif)"
      ]
    },
    {
      "cell_type": "code",
      "execution_count": null,
      "metadata": {
        "colab": {
          "base_uri": "https://localhost:8080/",
          "height": 472
        },
        "id": "OifTX_Bq81yC",
        "outputId": "d535f6ea-fac5-41fd-a43d-3447157c8f08"
      },
      "outputs": [
        {
          "data": {
            "text/html": [
              "<video src=\"https://user-images.githubusercontent.com/5242555/218378705-6b285a69-cbe8-47ef-a4b6-b974f0233ae3.webm\" width=\"800\" controls/>"
            ],
            "text/plain": [
              "<IPython.core.display.HTML object>"
            ]
          },
          "execution_count": 30,
          "metadata": {},
          "output_type": "execute_result"
        }
      ],
      "source": [
        "from IPython.display import HTML\n",
        "HTML('<video src=\"https://user-images.githubusercontent.com/5242555/218378705-6b285a69-cbe8-47ef-a4b6-b974f0233ae3.webm\" width=\"800\" controls/>')"
      ]
    },
    {
      "attachments": {},
      "cell_type": "markdown",
      "metadata": {
        "id": "wbKO3W95R3bd"
      },
      "source": []
    },
    {
      "attachments": {},
      "cell_type": "markdown",
      "metadata": {
        "id": "05Af9Ey8bWII"
      },
      "source": [
        "## TensorFlow 다운그레이드\n",
        "\n",
        "2.11.0 -> 2.5.0"
      ]
    },
    {
      "cell_type": "code",
      "execution_count": null,
      "metadata": {
        "colab": {
          "base_uri": "https://localhost:8080/",
          "height": 36
        },
        "id": "zkaHHv6jZpcY",
        "outputId": "23febe9d-8fde-4787-fcac-c38c7083e808"
      },
      "outputs": [
        {
          "data": {
            "application/vnd.google.colaboratory.intrinsic+json": {
              "type": "string"
            },
            "text/plain": [
              "'2.11.0'"
            ]
          },
          "execution_count": 1,
          "metadata": {},
          "output_type": "execute_result"
        }
      ],
      "source": [
        "import tensorflow as tf\n",
        "tf.__version__"
      ]
    },
    {
      "cell_type": "code",
      "execution_count": null,
      "metadata": {
        "colab": {
          "base_uri": "https://localhost:8080/"
        },
        "id": "WJyXvVbaZc-a",
        "outputId": "378763da-b54b-47c9-edd0-540463c6faee"
      },
      "outputs": [
        {
          "name": "stdout",
          "output_type": "stream",
          "text": [
            "--2023-02-13 04:44:43--  https://developer.download.nvidia.com/compute/cuda/repos/ubuntu2004/x86_64/libcudnn8_8.1.0.77-1+cuda11.2_amd64.deb\n",
            "Resolving developer.download.nvidia.com (developer.download.nvidia.com)... 152.195.19.142\n",
            "Connecting to developer.download.nvidia.com (developer.download.nvidia.com)|152.195.19.142|:443... connected.\n",
            "HTTP request sent, awaiting response... 200 OK\n",
            "Length: 430460776 (411M) [application/x-deb]\n",
            "Saving to: ‘libcudnn8_8.1.0.77-1+cuda11.2_amd64.deb’\n",
            "\n",
            "libcudnn8_8.1.0.77- 100%[===================>] 410.52M   286MB/s    in 1.4s    \n",
            "\n",
            "2023-02-13 04:44:44 (286 MB/s) - ‘libcudnn8_8.1.0.77-1+cuda11.2_amd64.deb’ saved [430460776/430460776]\n",
            "\n",
            "\u001b[1mdpkg:\u001b[0m \u001b[1;33mwarning:\u001b[0m downgrading libcudnn8 from 8.4.0.27-1+cuda11.6 to 8.1.0.77-1+cuda11.2\n",
            "(Reading database ... 128048 files and directories currently installed.)\n",
            "Preparing to unpack libcudnn8_8.1.0.77-1+cuda11.2_amd64.deb ...\n",
            "Unpacking libcudnn8 (8.1.0.77-1+cuda11.2) over (8.4.0.27-1+cuda11.6) ...\n",
            "Setting up libcudnn8 (8.1.0.77-1+cuda11.2) ...\n",
            "lrwxrwxrwx 1 root root     17 Jan 25  2021 /usr/lib/x86_64-linux-gnu/libcudnn.so.8 -> libcudnn.so.8.1.0\n",
            "-rw-r--r-- 1 root root 158264 Jan 25  2021 /usr/lib/x86_64-linux-gnu/libcudnn.so.8.1.0\n",
            "\u001b[2K     \u001b[90m━━━━━━━━━━━━━━━━━━━━━━━━━━━━━━━━━━━━━━━\u001b[0m \u001b[32m454.4/454.4 MB\u001b[0m \u001b[31m3.3 MB/s\u001b[0m eta \u001b[36m0:00:00\u001b[0m\n",
            "\u001b[2K     \u001b[90m━━━━━━━━━━━━━━━━━━━━━━━━━━━━━━━━━━━━━━\u001b[0m \u001b[32m132.0/132.0 KB\u001b[0m \u001b[31m12.5 MB/s\u001b[0m eta \u001b[36m0:00:00\u001b[0m\n",
            "\u001b[2K     \u001b[90m━━━━━━━━━━━━━━━━━━━━━━━━━━━━━━━━━━━━━━━━\u001b[0m \u001b[32m42.6/42.6 KB\u001b[0m \u001b[31m5.2 MB/s\u001b[0m eta \u001b[36m0:00:00\u001b[0m\n",
            "\u001b[2K     \u001b[90m━━━━━━━━━━━━━━━━━━━━━━━━━━━━━━━━━━━━━━━━\u001b[0m \u001b[32m1.2/1.2 MB\u001b[0m \u001b[31m73.5 MB/s\u001b[0m eta \u001b[36m0:00:00\u001b[0m\n",
            "\u001b[?25h  Preparing metadata (setup.py) ... \u001b[?25l\u001b[?25hdone\n",
            "\u001b[2K     \u001b[90m━━━━━━━━━━━━━━━━━━━━━━━━━━━━━━━━━━━━━━\u001b[0m \u001b[32m462.4/462.4 KB\u001b[0m \u001b[31m47.8 MB/s\u001b[0m eta \u001b[36m0:00:00\u001b[0m\n",
            "\u001b[2K     \u001b[90m━━━━━━━━━━━━━━━━━━━━━━━━━━━━━━━━━━━━━━━━\u001b[0m \u001b[32m4.0/4.0 MB\u001b[0m \u001b[31m98.4 MB/s\u001b[0m eta \u001b[36m0:00:00\u001b[0m\n",
            "\u001b[?25h  Preparing metadata (setup.py) ... \u001b[?25l\u001b[?25hdone\n",
            "\u001b[2K     \u001b[90m━━━━━━━━━━━━━━━━━━━━━━━━━━━━━━━━━━━━━━━━\u001b[0m \u001b[32m14.9/14.9 MB\u001b[0m \u001b[31m87.6 MB/s\u001b[0m eta \u001b[36m0:00:00\u001b[0m\n",
            "\u001b[?25h  Building wheel for termcolor (setup.py) ... \u001b[?25l\u001b[?25hdone\n",
            "  Building wheel for wrapt (setup.py) ... \u001b[?25l\u001b[?25hdone\n",
            "\u001b[31mERROR: pip's dependency resolver does not currently take into account all the packages that are installed. This behaviour is the source of the following dependency conflicts.\n",
            "xarray 2022.12.0 requires numpy>=1.20, but you have numpy 1.19.5 which is incompatible.\n",
            "xarray-einstats 0.5.1 requires numpy>=1.20, but you have numpy 1.19.5 which is incompatible.\n",
            "pydantic 1.10.4 requires typing-extensions>=4.2.0, but you have typing-extensions 3.7.4.3 which is incompatible.\n",
            "jaxlib 0.3.25+cuda11.cudnn805 requires numpy>=1.20, but you have numpy 1.19.5 which is incompatible.\n",
            "jax 0.3.25 requires numpy>=1.20, but you have numpy 1.19.5 which is incompatible.\n",
            "grpcio-status 1.48.2 requires grpcio>=1.48.2, but you have grpcio 1.34.1 which is incompatible.\n",
            "google-cloud-bigquery 3.4.2 requires grpcio<2.0dev,>=1.47.0, but you have grpcio 1.34.1 which is incompatible.\n",
            "cupy-cuda11x 11.0.0 requires numpy<1.26,>=1.20, but you have numpy 1.19.5 which is incompatible.\n",
            "cmdstanpy 1.1.0 requires numpy>=1.21, but you have numpy 1.19.5 which is incompatible.\u001b[0m\u001b[31m\n",
            "\u001b[0m"
          ]
        }
      ],
      "source": [
        "!wget https://developer.download.nvidia.com/compute/cuda/repos/ubuntu2004/x86_64/libcudnn8_8.1.0.77-1+cuda11.2_amd64.deb\n",
        "!dpkg -i libcudnn8_8.1.0.77-1+cuda11.2_amd64.deb\n",
        "!ls -l /usr/lib/x86_64-linux-gnu/libcudnn.so.*\n",
        "!pip install -U -qq tensorflow==2.5.0\n",
        "exit() # 런타임 다시 시작 필요!"
      ]
    },
    {
      "cell_type": "code",
      "execution_count": null,
      "metadata": {
        "colab": {
          "base_uri": "https://localhost:8080/",
          "height": 36
        },
        "id": "d9hl1f-3akGZ",
        "outputId": "f0eca28b-f1a2-4df6-ca57-296e6653070c"
      },
      "outputs": [
        {
          "data": {
            "application/vnd.google.colaboratory.intrinsic+json": {
              "type": "string"
            },
            "text/plain": [
              "'2.5.0'"
            ]
          },
          "execution_count": 1,
          "metadata": {},
          "output_type": "execute_result"
        }
      ],
      "source": [
        "import tensorflow as tf\n",
        "tf.__version__"
      ]
    },
    {
      "cell_type": "code",
      "execution_count": null,
      "metadata": {
        "colab": {
          "base_uri": "https://localhost:8080/"
        },
        "id": "848MproXbraa",
        "outputId": "eb85b577-856a-40a2-ac06-8f53d81d1f71"
      },
      "outputs": [
        {
          "data": {
            "text/plain": [
              "[name: \"/device:CPU:0\"\n",
              " device_type: \"CPU\"\n",
              " memory_limit: 268435456\n",
              " locality {\n",
              " }\n",
              " incarnation: 15546857329933517555, name: \"/device:GPU:0\"\n",
              " device_type: \"GPU\"\n",
              " memory_limit: 14476509184\n",
              " locality {\n",
              "   bus_id: 1\n",
              "   links {\n",
              "   }\n",
              " }\n",
              " incarnation: 8543149671718741829\n",
              " physical_device_desc: \"device: 0, name: Tesla T4, pci bus id: 0000:00:04.0, compute capability: 7.5\"]"
            ]
          },
          "execution_count": 2,
          "metadata": {},
          "output_type": "execute_result"
        }
      ],
      "source": [
        "from tensorflow.python.client import device_lib\n",
        "device_lib.list_local_devices()"
      ]
    },
    {
      "cell_type": "code",
      "execution_count": null,
      "metadata": {
        "colab": {
          "base_uri": "https://localhost:8080/"
        },
        "id": "L1c6q9tRxFTO",
        "outputId": "93bc2995-ed87-4fed-f431-42a4d6a226c2"
      },
      "outputs": [
        {
          "name": "stdout",
          "output_type": "stream",
          "text": [
            "Mon Feb 13 04:46:58 2023       \n",
            "+-----------------------------------------------------------------------------+\n",
            "| NVIDIA-SMI 510.47.03    Driver Version: 510.47.03    CUDA Version: 11.6     |\n",
            "|-------------------------------+----------------------+----------------------+\n",
            "| GPU  Name        Persistence-M| Bus-Id        Disp.A | Volatile Uncorr. ECC |\n",
            "| Fan  Temp  Perf  Pwr:Usage/Cap|         Memory-Usage | GPU-Util  Compute M. |\n",
            "|                               |                      |               MIG M. |\n",
            "|===============================+======================+======================|\n",
            "|   0  Tesla T4            Off  | 00000000:00:04.0 Off |                    0 |\n",
            "| N/A   55C    P0    27W /  70W |    254MiB / 15360MiB |      0%      Default |\n",
            "|                               |                      |                  N/A |\n",
            "+-------------------------------+----------------------+----------------------+\n",
            "                                                                               \n",
            "+-----------------------------------------------------------------------------+\n",
            "| Processes:                                                                  |\n",
            "|  GPU   GI   CI        PID   Type   Process name                  GPU Memory |\n",
            "|        ID   ID                                                   Usage      |\n",
            "|=============================================================================|\n",
            "|    0   N/A  N/A     17305      C                                     251MiB |\n",
            "+-----------------------------------------------------------------------------+\n"
          ]
        }
      ],
      "source": [
        "!nvidia-smi"
      ]
    },
    {
      "attachments": {},
      "cell_type": "markdown",
      "metadata": {
        "id": "qu78d4rSbWIL"
      },
      "source": [
        "## Mask R-CNN 소스코드\n",
        "\n",
        "- Modified for Colab: https://github.com/kairess/Mask_RCNN\n",
        "- Modified: https://github.com/akTwelve/Mask_RCNN\n",
        "- Original: https://github.com/matterport/Mask_RCNN"
      ]
    },
    {
      "cell_type": "code",
      "execution_count": null,
      "metadata": {
        "colab": {
          "base_uri": "https://localhost:8080/"
        },
        "id": "-wUDJAUGb76s",
        "outputId": "74c4c46a-a5f3-4734-bfea-2033fea05986"
      },
      "outputs": [
        {
          "name": "stdout",
          "output_type": "stream",
          "text": [
            "Cloning into 'Mask_RCNN'...\n",
            "remote: Enumerating objects: 1543, done.\u001b[K\n",
            "remote: Total 1543 (delta 0), reused 0 (delta 0), pack-reused 1543\u001b[K\n",
            "Receiving objects: 100% (1543/1543), 1.26 GiB | 24.14 MiB/s, done.\n",
            "Resolving deltas: 100% (596/596), done.\n",
            "Updating files: 100% (624/624), done.\n"
          ]
        }
      ],
      "source": [
        "!git clone https://github.com/kairess/Mask_RCNN"
      ]
    },
    {
      "cell_type": "code",
      "execution_count": null,
      "metadata": {
        "id": "RLln0VbzbWIL"
      },
      "outputs": [],
      "source": [
        "import os\n",
        "import sys\n",
        "import json\n",
        "import numpy as np\n",
        "import time\n",
        "from PIL import Image, ImageDraw\n",
        "\n",
        "ROOT_DIR = 'Mask_RCNN'\n",
        "\n",
        "sys.path.append(ROOT_DIR) \n",
        "from mrcnn.config import Config\n",
        "import mrcnn.utils as utils\n",
        "from mrcnn import visualize\n",
        "import mrcnn.model as modellib"
      ]
    },
    {
      "attachments": {},
      "cell_type": "markdown",
      "metadata": {
        "id": "7Od-NiSiNZV5"
      },
      "source": [
        "## 테스트 데이터 다운로드\n",
        "\n",
        "**전체 데이터 다운로드 방법**\n",
        "\n",
        "### 주차 공간 탐색을 위한 차량 관점 복합 데이터 (AI허브)\n",
        "\n",
        "https://www.aihub.or.kr/aihubdata/data/view.do?dataSetSn=598\n",
        "\n",
        "<img src=\"https://www.aihub.or.kr/web-nas/aihub21/files/editor/2022/06/d2d2490af9e3466badefa28bb55af3d7.jpg\" width=\"800px\"/>"
      ]
    },
    {
      "cell_type": "code",
      "execution_count": null,
      "metadata": {
        "colab": {
          "base_uri": "https://localhost:8080/"
        },
        "id": "TzCe0vcaMJMV",
        "outputId": "e7e13787-4344-492e-e9ce-b5c0da406b07"
      },
      "outputs": [
        {
          "name": "stderr",
          "output_type": "stream",
          "text": [
            "Downloading...\n",
            "From: https://drive.google.com/uc?id=1aDiMsr--LwXuRUBssqaFyn_xf-CrVE2H\n",
            "To: /content/parking-space-indoor.zip\n",
            "100%|██████████| 572M/572M [00:13<00:00, 42.8MB/s]\n"
          ]
        }
      ],
      "source": [
        "gdown.download('https://drive.google.com/uc?id=1aDiMsr--LwXuRUBssqaFyn_xf-CrVE2H')\n",
        "\n",
        "!unzip -qq parking-space-indoor.zip"
      ]
    },
    {
      "attachments": {},
      "cell_type": "markdown",
      "metadata": {
        "id": "QCRUELJ4bWIL"
      },
      "source": [
        "## 사전학습 모델 다운로드\n",
        "\n",
        "- mask_rcnn_bbox_0100.h5: 38개 객체 검출 (배경 제외)\n",
        "  - 자동차, 오토바이 종류 등 포함\n",
        "- mask_rcnn_seg_0100.h5: 2개 객체 검출 (배경 제외)\n",
        "  - 배경\n",
        "  - 주차 가능 공간 (Parking space)\n",
        "  - 주행 가능 공간 (Drivable space)"
      ]
    },
    {
      "cell_type": "code",
      "execution_count": null,
      "metadata": {
        "colab": {
          "base_uri": "https://localhost:8080/",
          "height": 180
        },
        "id": "kNf0h1AlGR1H",
        "outputId": "e063b0b6-1cc4-46db-ce48-32890cc3f625"
      },
      "outputs": [
        {
          "name": "stderr",
          "output_type": "stream",
          "text": [
            "Downloading...\n",
            "From: https://drive.google.com/uc?id=1_zzHykFnYsYSdLaUXU05lfcfKgha2mx-\n",
            "To: /content/mask_rcnn_bbox_0100.h5\n",
            "100%|██████████| 257M/257M [00:06<00:00, 38.9MB/s]\n",
            "Downloading...\n",
            "From: https://drive.google.com/uc?id=1fYSofPxj-CdttG-HLewOg1cQct2di7yS\n",
            "To: /content/mask_rcnn_seg_0100.h5\n",
            "100%|██████████| 256M/256M [00:04<00:00, 53.6MB/s]\n"
          ]
        },
        {
          "data": {
            "application/vnd.google.colaboratory.intrinsic+json": {
              "type": "string"
            },
            "text/plain": [
              "'mask_rcnn_seg_0100.h5'"
            ]
          },
          "execution_count": 6,
          "metadata": {},
          "output_type": "execute_result"
        }
      ],
      "source": [
        "!pip install -U --no-cache-dir gdown --pre -qq\n",
        "\n",
        "import gdown\n",
        "\n",
        "gdown.download('https://drive.google.com/uc?id=1_zzHykFnYsYSdLaUXU05lfcfKgha2mx-')\n",
        "gdown.download('https://drive.google.com/uc?id=1fYSofPxj-CdttG-HLewOg1cQct2di7yS')"
      ]
    },
    {
      "attachments": {},
      "cell_type": "markdown",
      "metadata": {
        "id": "F5fqyV4JbWIS"
      },
      "source": [
        "## Load a Model"
      ]
    },
    {
      "cell_type": "code",
      "execution_count": null,
      "metadata": {
        "collapsed": true,
        "id": "LPCWHRzVbWIS"
      },
      "outputs": [],
      "source": [
        "from mrcnn.config import Config\n",
        "\n",
        "class_names = [\"BG\", \"Parking Space\", \"Drivable Space\"]\n",
        "# class_names = [\"BG\", \"Car\", \"Van\", \"Other Vehicle\", \"Motorbike\", \"Bicycle\", \"Electric Scooter\", \"Adult\", \"Child\", \"Stroller\", \"Shopping Cart\", \"Gate Arm\", \n",
        "#                \"Parking Block\", \"Speed Bump\", \"Traffic Pole\", \"Traffic Cone\", \"Traffic Drum\", \"Traffic Barricade\", \"Cylindrical Bollard\", \"U-shaped Bollard\", \n",
        "#                \"Other Road Barriers\", \"No Parking Stand\", \"Adjustable Parking Pole\", \"Waste Tire\", \"Planter Barrier\", \"Water Container\", \"Movable Obstacle\", \n",
        "#                \"Barrier Gate\", \"Electric Car Charger\", \"Parking Meter\", \"Parking Sign\", \"Traffic Light\", \"Pedestrian Light\", \"Street Sign\", \"Disabled Parking Space\", \n",
        "#                \"Pregnant Parking Space\", \"Electric Car Parking Space\", \"Two-wheeled Vehicle Parking Space\", \"Other Parking Space\"]\n",
        "\n",
        "class InferenceConfig(Config):\n",
        "    NAME = \"bbox\"\n",
        "    GPU_COUNT = 1\n",
        "    IMAGES_PER_GPU = 1\n",
        "    NUM_CLASSES = len(class_names)\n",
        "    DETECTION_MIN_CONFIDENCE = 0.9\n",
        "\n",
        "inference_config = InferenceConfig()\n",
        "\n",
        "model_path = \"/content/mask_rcnn_seg_0100.h5\"\n",
        "# model_path = \"/content/mask_rcnn_bbox_0100.h5\"\n",
        "\n",
        "test_model = modellib.MaskRCNN(\n",
        "    mode=\"inference\", \n",
        "    config=inference_config,\n",
        "    model_dir=model_path)\n",
        "\n",
        "test_model.load_weights(model_path, by_name=True)"
      ]
    },
    {
      "attachments": {},
      "cell_type": "markdown",
      "metadata": {
        "id": "y8yTTBr6bWIS"
      },
      "source": [
        "## Run Inference"
      ]
    },
    {
      "cell_type": "code",
      "execution_count": null,
      "metadata": {
        "colab": {
          "base_uri": "https://localhost:8080/",
          "height": 1000
        },
        "id": "jjwXJpCCbWIS",
        "outputId": "d7d7ac32-f1bb-4d1f-b601-8ce5550e2661",
        "scrolled": false
      },
      "outputs": [],
      "source": [
        "import skimage\n",
        "\n",
        "mask_colors = [\n",
        "    (0., 0., 0.), # Background\n",
        "    (0., 1., 0.), # Parking space\n",
        "    (0., 0., 1.)  # Drivable space\n",
        "]\n",
        "\n",
        "real_test_dir = '/content/parking-space-indoor/대형주차장_004/Camera'\n",
        "image_paths = []\n",
        "\n",
        "for filename in os.listdir(real_test_dir):\n",
        "    if os.path.splitext(filename)[1].lower() in ['.png', '.jpg', '.jpeg']:\n",
        "        image_paths.append(os.path.join(real_test_dir, filename))\n",
        "\n",
        "for image_path in image_paths[:10]:\n",
        "    img = skimage.io.imread(image_path)\n",
        "    img_arr = np.array(img)\n",
        "\n",
        "    results = test_model.detect([img_arr], verbose=1)\n",
        "    r = results[0]\n",
        "\n",
        "    colors = tuple(np.take(mask_colors, r['class_ids'], axis=0))\n",
        "\n",
        "    visualize.display_instances(img, r['rois'], r['masks'], r['class_ids'], \n",
        "                                seg_class_names, r['scores'], figsize=(16, 8),\n",
        "                                colors=colors)"
      ]
    },
    {
      "attachments": {},
      "cell_type": "markdown",
      "metadata": {
        "id": "G7gqXdmkukbq"
      },
      "source": [
        "## 동영상 처리"
      ]
    },
    {
      "cell_type": "code",
      "execution_count": null,
      "metadata": {
        "colab": {
          "base_uri": "https://localhost:8080/",
          "height": 17
        },
        "id": "-4p2OFVghBeE",
        "outputId": "c111349a-b913-4859-ec93-b0ab711e638b"
      },
      "outputs": [
        {
          "data": {
            "application/javascript": "\n    async function download(id, filename, size) {\n      if (!google.colab.kernel.accessAllowed) {\n        return;\n      }\n      const div = document.createElement('div');\n      const label = document.createElement('label');\n      label.textContent = `Downloading \"${filename}\": `;\n      div.appendChild(label);\n      const progress = document.createElement('progress');\n      progress.max = size;\n      div.appendChild(progress);\n      document.body.appendChild(div);\n\n      const buffers = [];\n      let downloaded = 0;\n\n      const channel = await google.colab.kernel.comms.open(id);\n      // Send a message to notify the kernel that we're ready.\n      channel.send({})\n\n      for await (const message of channel.messages) {\n        // Send a message to notify the kernel that we're ready.\n        channel.send({})\n        if (message.buffers) {\n          for (const buffer of message.buffers) {\n            buffers.push(buffer);\n            downloaded += buffer.byteLength;\n            progress.value = downloaded;\n          }\n        }\n      }\n      const blob = new Blob(buffers, {type: 'application/binary'});\n      const a = document.createElement('a');\n      a.href = window.URL.createObjectURL(blob);\n      a.download = filename;\n      div.appendChild(a);\n      a.click();\n      div.remove();\n    }\n  ",
            "text/plain": [
              "<IPython.core.display.Javascript object>"
            ]
          },
          "metadata": {},
          "output_type": "display_data"
        },
        {
          "data": {
            "application/javascript": "download(\"download_d91422da-2e53-4943-88a9-1ac5c2ee7a23\", \"output.mp4\", 29242263)",
            "text/plain": [
              "<IPython.core.display.Javascript object>"
            ]
          },
          "metadata": {},
          "output_type": "display_data"
        }
      ],
      "source": [
        "import cv2\n",
        "from google.colab import files\n",
        "from tqdm import tqdm\n",
        "\n",
        "mask_colors_255 = [\n",
        "    (0, 0, 0), # Background\n",
        "    (0, 255, 0), # Parking space\n",
        "    (0, 0, 255)  # Drivable space\n",
        "]\n",
        "\n",
        "fourcc = cv2.VideoWriter_fourcc('m', 'p', '4', 'v')\n",
        "out = cv2.VideoWriter('output.mp4', fourcc, 10, (1920, 1080))\n",
        "\n",
        "real_test_dir = '/content/parking-space-indoor/대형주차장_004/Camera'\n",
        "image_paths = []\n",
        "\n",
        "for filename in sorted(os.listdir(real_test_dir)):\n",
        "    if os.path.splitext(filename)[1].lower() in ['.png', '.jpg', '.jpeg']:\n",
        "        image_paths.append(os.path.join(real_test_dir, filename))\n",
        "\n",
        "for image_path in tqdm(image_paths):\n",
        "    img = skimage.io.imread(image_path)\n",
        "    img_arr = np.array(img)\n",
        "\n",
        "    results = test_model.detect([img_arr])\n",
        "\n",
        "    rois = results[0]['rois']\n",
        "    class_ids = results[0]['class_ids']\n",
        "    scores = results[0]['scores']\n",
        "    masks = results[0]['masks']\n",
        "\n",
        "    result_img = img.copy()\n",
        "\n",
        "    for i, class_id in enumerate(class_ids):\n",
        "        mask = masks[:, :, i].astype(np.float32)\n",
        "        mask = (mask * 255).astype(np.uint8)\n",
        "\n",
        "        contours, _ = cv2.findContours(mask, cv2.RETR_EXTERNAL, cv2.CHAIN_APPROX_SIMPLE)\n",
        "        cv2.drawContours(result_img, contours, 0, mask_colors_255[class_id], 2)\n",
        "\n",
        "        x, y, w, h = cv2.boundingRect(contours[0])\n",
        "        # cv2.rectangle(result_img, (x, y), (x + w, y + h), (255, 255, 255), 2)\n",
        "\n",
        "    out.write(result_img)\n",
        "\n",
        "out.release()\n",
        "\n",
        "files.download('output.mp4')"
      ]
    }
  ],
  "metadata": {
    "accelerator": "GPU",
    "colab": {
      "provenance": []
    },
    "gpuClass": "standard",
    "kernelspec": {
      "display_name": "Python 3",
      "name": "python3"
    },
    "language_info": {
      "name": "python"
    }
  },
  "nbformat": 4,
  "nbformat_minor": 0
}
